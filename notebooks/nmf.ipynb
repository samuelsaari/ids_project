{
 "cells": [
  {
   "cell_type": "code",
   "execution_count": 7,
   "id": "ed9d8c05",
   "metadata": {},
   "outputs": [
    {
     "data": {
      "text/html": [
       "<div>\n",
       "<style scoped>\n",
       "    .dataframe tbody tr th:only-of-type {\n",
       "        vertical-align: middle;\n",
       "    }\n",
       "\n",
       "    .dataframe tbody tr th {\n",
       "        vertical-align: top;\n",
       "    }\n",
       "\n",
       "    .dataframe thead th {\n",
       "        text-align: right;\n",
       "    }\n",
       "</style>\n",
       "<table border=\"1\" class=\"dataframe\">\n",
       "  <thead>\n",
       "    <tr style=\"text-align: right;\">\n",
       "      <th></th>\n",
       "      <th>username</th>\n",
       "      <th>bgg_id</th>\n",
       "      <th>game_name</th>\n",
       "      <th>rating</th>\n",
       "      <th>owned</th>\n",
       "      <th>num_plays</th>\n",
       "      <th>collection_date</th>\n",
       "      <th>weight</th>\n",
       "      <th>avg_rating</th>\n",
       "      <th>num_ratings</th>\n",
       "      <th>categories</th>\n",
       "      <th>mechanics</th>\n",
       "    </tr>\n",
       "  </thead>\n",
       "  <tbody>\n",
       "    <tr>\n",
       "      <th>0</th>\n",
       "      <td>AlexCast</td>\n",
       "      <td>267127</td>\n",
       "      <td>Aerion</td>\n",
       "      <td>7.0</td>\n",
       "      <td>1</td>\n",
       "      <td>1</td>\n",
       "      <td>2025-09-18T17:17:05.721113</td>\n",
       "      <td>1.9677</td>\n",
       "      <td>7.28969</td>\n",
       "      <td>1974.0</td>\n",
       "      <td>[Aviation / Flight, Card Game, Dice, Fantasy]</td>\n",
       "      <td>[Cooperative Game, Dice Rolling, Open Drafting...</td>\n",
       "    </tr>\n",
       "  </tbody>\n",
       "</table>\n",
       "</div>"
      ],
      "text/plain": [
       "   username  bgg_id game_name  rating  owned  num_plays  \\\n",
       "0  AlexCast  267127    Aerion     7.0      1          1   \n",
       "\n",
       "              collection_date  weight  avg_rating  num_ratings  \\\n",
       "0  2025-09-18T17:17:05.721113  1.9677     7.28969       1974.0   \n",
       "\n",
       "                                      categories  \\\n",
       "0  [Aviation / Flight, Card Game, Dice, Fantasy]   \n",
       "\n",
       "                                           mechanics  \n",
       "0  [Cooperative Game, Dice Rolling, Open Drafting...  "
      ]
     },
     "execution_count": 7,
     "metadata": {},
     "output_type": "execute_result"
    }
   ],
   "source": [
    "import os, sys\n",
    "src_path = os.path.abspath(os.path.join('..', 'src'))\n",
    "if src_path not in sys.path:\n",
    "  sys.path.append(src_path)\n",
    "\n",
    "from load_data import load_data\n",
    "\n",
    "users, games, ratings = load_data()\n",
    "ratings.head(1)"
   ]
  }
 ],
 "metadata": {
  "kernelspec": {
   "display_name": "ids_mini_venv",
   "language": "python",
   "name": "python3"
  },
  "language_info": {
   "codemirror_mode": {
    "name": "ipython",
    "version": 3
   },
   "file_extension": ".py",
   "mimetype": "text/x-python",
   "name": "python",
   "nbconvert_exporter": "python",
   "pygments_lexer": "ipython3",
   "version": "3.12.3"
  }
 },
 "nbformat": 4,
 "nbformat_minor": 5
}
